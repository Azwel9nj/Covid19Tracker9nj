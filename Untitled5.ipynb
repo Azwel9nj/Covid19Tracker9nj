{
  "nbformat": 4,
  "nbformat_minor": 0,
  "metadata": {
    "colab": {
      "provenance": [],
      "authorship_tag": "ABX9TyN///zz6R+3l8Gj4QSYeRPi",
      "include_colab_link": true
    },
    "kernelspec": {
      "name": "python3",
      "display_name": "Python 3"
    },
    "language_info": {
      "name": "python"
    }
  },
  "cells": [
    {
      "cell_type": "markdown",
      "metadata": {
        "id": "view-in-github",
        "colab_type": "text"
      },
      "source": [
        "<a href=\"https://colab.research.google.com/github/Azwel9nj/Covid19Tracker9nj/blob/master/Untitled5.ipynb\" target=\"_parent\"><img src=\"https://colab.research.google.com/assets/colab-badge.svg\" alt=\"Open In Colab\"/></a>"
      ]
    },
    {
      "cell_type": "code",
      "execution_count": 2,
      "metadata": {
        "id": "irELfJzK3TQj"
      },
      "outputs": [],
      "source": [
        "import os\n",
        "import cv2\n",
        "import numpy as np\n",
        "import tensorflow as tf"
      ]
    },
    {
      "cell_type": "code",
      "source": [],
      "metadata": {
        "id": "yZ3kLzFDnlC_"
      },
      "execution_count": null,
      "outputs": []
    },
    {
      "cell_type": "code",
      "source": [
        "from google.colab import drive\n",
        "drive.mount('/content/drive')\n"
      ],
      "metadata": {
        "colab": {
          "base_uri": "https://localhost:8080/"
        },
        "id": "RrUSXq5HZFeU",
        "outputId": "e9af89ca-8d02-49cf-ff22-193c28cfeb6c"
      },
      "execution_count": 3,
      "outputs": [
        {
          "output_type": "stream",
          "name": "stdout",
          "text": [
            "Drive already mounted at /content/drive; to attempt to forcibly remount, call drive.mount(\"/content/drive\", force_remount=True).\n"
          ]
        }
      ]
    },
    {
      "cell_type": "code",
      "source": [
        "import os\n",
        "import cv2\n",
        "import numpy as np\n",
        "import tensorflow as tf\n",
        "import xml.etree.ElementTree as ET\n",
        "\n",
        "class DataLoader:\n",
        "    def __init__(self, image_path, annotation_path, class_labels, model_path):\n",
        "        self.image_path = image_path\n",
        "        self.annotation_path = annotation_path\n",
        "        self.class_labels = class_labels\n",
        "        self.images = []\n",
        "        self.labels = []\n",
        "        self.model_path = model_path\n",
        "\n",
        "        self.load_data()\n",
        "        self.prepare_model()\n",
        "\n",
        "    def load_data(self):\n",
        "        try:\n",
        "            for file in os.listdir(self.annotation_path):\n",
        "                if file.endswith('.xml'):\n",
        "                    image_file = os.path.join(self.image_path, file.replace('.xml', '.jpg'))\n",
        "                    annotation_file = os.path.join(self.annotation_path, file)\n",
        "\n",
        "                    if os.path.exists(image_file) and os.path.exists(annotation_file):\n",
        "                        image = cv2.imread(image_file)\n",
        "                        image = cv2.resize(image, (224, 224))  # Resize the image to a fixed size (e.g., 224x224)\n",
        "                        image = image.astype(np.float32)  # Convert the image to float32\n",
        "                        image /= 255.0  # Normalize the pixel values to the range [0, 1]\n",
        "                        self.images.append(image)\n",
        "\n",
        "                        label = self.parse_annotation(annotation_file)\n",
        "                        self.labels.append(label)\n",
        "                    else:\n",
        "                        print(f\"Warning: Image file '{image_file}' or annotation file '{annotation_file}' not found. Skipping.\")\n",
        "        except Exception as e:\n",
        "            print(f\"Error occurred during data loading: {e}\")\n",
        "            self.images.clear()\n",
        "            self.labels.clear()\n",
        "\n",
        "    def parse_annotation(self, annotation_file):\n",
        "        # Your implementation to parse the annotation file and return the label\n",
        "        # Here, we will use an XML parser to extract the label from the <name> tag inside <object>\n",
        "\n",
        "        try:\n",
        "            tree = ET.parse(annotation_file)\n",
        "            root = tree.getroot()\n",
        "            object_tag = root.find('object')\n",
        "            label = object_tag.find('name').text.strip()\n",
        "        except Exception as e:\n",
        "            print(f\"Warning: Error occurred while parsing annotation file '{annotation_file}': {e}\")\n",
        "            return -1  # Return a special value to indicate an error\n",
        "\n",
        "        try:\n",
        "            return self.class_labels.index(label)\n",
        "        except ValueError as e:\n",
        "            print(f\"Warning: Annotation file '{annotation_file}' contains an unknown label '{label}'. Skipping.\")\n",
        "            return -1  # Return a special value to indicate an error\n",
        "\n",
        "    def prepare_model(self):\n",
        "        # Load the TFLite model\n",
        "        try:\n",
        "            self.interpreter = tf.lite.Interpreter(model_path=self.model_path)\n",
        "            self.interpreter.allocate_tensors()\n",
        "\n",
        "            # Get input and output details\n",
        "            self.input_details = self.interpreter.get_input_details()\n",
        "            self.output_details = self.interpreter.get_output_details()\n",
        "        except Exception as e:\n",
        "            print(f\"Error occurred while preparing the model: {e}\")\n",
        "            self.interpreter = None\n",
        "\n",
        "    def run_inference(self):\n",
        "        if self.interpreter is None:\n",
        "            print(\"Error: Model is not properly initialized. Inference cannot be performed.\")\n",
        "            return -1\n",
        "\n",
        "        # Prepare the test data for inference and calculate accuracy for each image separately\n",
        "        total_images = len(self.images)\n",
        "        correct_predictions = 0\n",
        "\n",
        "        for i in range(total_images):\n",
        "            test_image = cv2.resize(self.images[i], (320, 320))  # Resize the image to the input size of the model\n",
        "            test_image = test_image.astype(np.float32)  # Convert the image to float32\n",
        "            test_image /= 255.0  # Normalize the pixel values to the range [0, 1]\n",
        "            test_image = (test_image * 255).astype(np.uint8)  # Convert the image back to UINT8 data type\n",
        "\n",
        "            # Expand dimensions to create a batch of 1 image\n",
        "            test_image_batch = np.expand_dims(test_image, axis=0)\n",
        "\n",
        "            # Set input tensor for the batch of 1 image\n",
        "            self.interpreter.set_tensor(self.input_details[0]['index'], test_image_batch)\n",
        "\n",
        "            # Run inference for the batch of 1 image\n",
        "            self.interpreter.invoke()\n",
        "\n",
        "            # Get the output results for the batch of 1 image\n",
        "            output_data = self.interpreter.get_tensor(self.output_details[0]['index'])\n",
        "            predicted_label = np.argmax(output_data, axis=1)[0]\n",
        "\n",
        "            # Assuming your self.labels returns the true labels in the same order as the images\n",
        "            true_label = self.labels[i]\n",
        "\n",
        "            if predicted_label == true_label:\n",
        "                correct_predictions += 1\n",
        "\n",
        "        # Calculate the accuracy\n",
        "        accuracy = correct_predictions / total_images\n",
        "\n",
        "        return accuracy\n",
        "\n",
        "# Initialize the DataLoader with the necessary paths and class labels\n",
        "data_loader = DataLoader(\n",
        "    '/content/drive/MyDrive/testTflite/images',\n",
        "    '/content/drive/MyDrive/testTflite/annotations',\n",
        "    ['without_mask', 'mask_weared_incorrect', 'with_mask'],  # Replace with your actual class labels\n",
        "    '/content/drive/MyDrive/TFliteModel/android.tflite'  # Replace with the path to your TFLite model\n",
        ")\n",
        "\n",
        "# Run inference and calculate accuracy\n",
        "accuracy = data_loader.run_inference()\n",
        "\n",
        "# Output the accuracy\n",
        "print(\"Accuracy:\", accuracy)"
      ],
      "metadata": {
        "colab": {
          "base_uri": "https://localhost:8080/"
        },
        "id": "a9zGupojn1SJ",
        "outputId": "e74a4daf-0026-4724-8e91-b3750107fcbe"
      },
      "execution_count": 22,
      "outputs": [
        {
          "output_type": "stream",
          "name": "stdout",
          "text": [
            "Warning: Image file '/content/drive/MyDrive/testTflite/images/0124.jpg' or annotation file '/content/drive/MyDrive/testTflite/annotations/0124.xml' not found. Skipping.\n",
            "Warning: Image file '/content/drive/MyDrive/testTflite/images/0125.jpg' or annotation file '/content/drive/MyDrive/testTflite/annotations/0125.xml' not found. Skipping.\n",
            "Warning: Image file '/content/drive/MyDrive/testTflite/images/0155.jpg' or annotation file '/content/drive/MyDrive/testTflite/annotations/0155.xml' not found. Skipping.\n",
            "Warning: Image file '/content/drive/MyDrive/testTflite/images/0156.jpg' or annotation file '/content/drive/MyDrive/testTflite/annotations/0156.xml' not found. Skipping.\n",
            "Warning: Image file '/content/drive/MyDrive/testTflite/images/0162.jpg' or annotation file '/content/drive/MyDrive/testTflite/annotations/0162.xml' not found. Skipping.\n",
            "Warning: Image file '/content/drive/MyDrive/testTflite/images/0271.jpg' or annotation file '/content/drive/MyDrive/testTflite/annotations/0271.xml' not found. Skipping.\n",
            "Warning: Image file '/content/drive/MyDrive/testTflite/images/1263.jpg' or annotation file '/content/drive/MyDrive/testTflite/annotations/1263.xml' not found. Skipping.\n",
            "Warning: Image file '/content/drive/MyDrive/testTflite/images/5040.jpg' or annotation file '/content/drive/MyDrive/testTflite/annotations/5040.xml' not found. Skipping.\n",
            "Warning: Image file '/content/drive/MyDrive/testTflite/images/5041.jpg' or annotation file '/content/drive/MyDrive/testTflite/annotations/5041.xml' not found. Skipping.\n",
            "Warning: Image file '/content/drive/MyDrive/testTflite/images/6356.jpg' or annotation file '/content/drive/MyDrive/testTflite/annotations/6356.xml' not found. Skipping.\n",
            "Accuracy: 0.3382157123834887\n"
          ]
        }
      ]
    }
  ]
}